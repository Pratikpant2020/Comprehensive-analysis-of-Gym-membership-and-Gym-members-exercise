{
 "cells": [
  {
   "cell_type": "code",
   "execution_count": 4,
   "metadata": {},
   "outputs": [],
   "source": [
    "# import the requirements.\n",
    "import pandas as pd\n",
    "import numpy as np \n",
    "import seaborn as sns\n",
    "import matplotlib.pyplot as plt"
   ]
  },
  {
   "cell_type": "code",
   "execution_count": null,
   "metadata": {},
   "outputs": [],
   "source": []
  },
  {
   "cell_type": "code",
   "execution_count": null,
   "metadata": {},
   "outputs": [
    {
     "name": "stderr",
     "output_type": "stream",
     "text": [
      "<>:1: SyntaxWarning: invalid escape sequence '\\d'\n",
      "<>:1: SyntaxWarning: invalid escape sequence '\\d'\n",
      "C:\\Users\\bhatt\\AppData\\Local\\Temp\\ipykernel_24212\\778291671.py:1: SyntaxWarning: invalid escape sequence '\\d'\n",
      "  new_gym = new_gym.pd('..r\\data\\new_gym.csv')\n",
      "C:\\Users\\bhatt\\AppData\\Local\\Temp\\ipykernel_24212\\778291671.py:1: SyntaxWarning: invalid escape sequence '\\d'\n",
      "  new_gym = new_gym.pd('..r\\data\\new_gym.csv')\n"
     ]
    },
    {
     "ename": "NameError",
     "evalue": "name 'new_gym' is not defined",
     "output_type": "error",
     "traceback": [
      "\u001b[1;31m---------------------------------------------------------------------------\u001b[0m",
      "\u001b[1;31mNameError\u001b[0m                                 Traceback (most recent call last)",
      "Cell \u001b[1;32mIn[9], line 1\u001b[0m\n\u001b[1;32m----> 1\u001b[0m new_gym \u001b[38;5;241m=\u001b[39m \u001b[43mnew_gym\u001b[49m\u001b[38;5;241m.\u001b[39mpd(\u001b[38;5;124m'\u001b[39m\u001b[38;5;124m..r\u001b[39m\u001b[38;5;124m\\\u001b[39m\u001b[38;5;124mdata\u001b[39m\u001b[38;5;130;01m\\n\u001b[39;00m\u001b[38;5;124mew_gym.csv\u001b[39m\u001b[38;5;124m'\u001b[39m)\n",
      "\u001b[1;31mNameError\u001b[0m: name 'new_gym' is not defined"
     ]
    }
   ],
   "source": [
    "new_gym = new_gym.pd('..r\\data\\clean\\new_gym.csv')"
   ]
  },
  {
   "cell_type": "code",
   "execution_count": null,
   "metadata": {},
   "outputs": [],
   "source": []
  }
 ],
 "metadata": {
  "kernelspec": {
   "display_name": "venv",
   "language": "python",
   "name": "python3"
  },
  "language_info": {
   "codemirror_mode": {
    "name": "ipython",
    "version": 3
   },
   "file_extension": ".py",
   "mimetype": "text/x-python",
   "name": "python",
   "nbconvert_exporter": "python",
   "pygments_lexer": "ipython3",
   "version": "3.12.8"
  }
 },
 "nbformat": 4,
 "nbformat_minor": 2
}
