{
 "cells": [
  {
   "cell_type": "code",
   "execution_count": 1,
   "metadata": {},
   "outputs": [],
   "source": [
    "# import the requirements.\n",
    "import pandas as pd\n",
    "import numpy as np \n",
    "import seaborn as sns\n",
    "import matplotlib.pyplot as plt\n"
   ]
  },
  {
   "cell_type": "code",
   "execution_count": 2,
   "metadata": {},
   "outputs": [],
   "source": [
    "# read the csv file.\n",
    "gym = pd.read_csv(r\"C:\\Users\\bhatt\\Downloads\\gym_members_exercise_tracking.csv\")\n"
   ]
  },
  {
   "cell_type": "code",
   "execution_count": 17,
   "metadata": {},
   "outputs": [
    {
     "data": {
      "text/html": [
       "<div>\n",
       "<style scoped>\n",
       "    .dataframe tbody tr th:only-of-type {\n",
       "        vertical-align: middle;\n",
       "    }\n",
       "\n",
       "    .dataframe tbody tr th {\n",
       "        vertical-align: top;\n",
       "    }\n",
       "\n",
       "    .dataframe thead th {\n",
       "        text-align: right;\n",
       "    }\n",
       "</style>\n",
       "<table border=\"1\" class=\"dataframe\">\n",
       "  <thead>\n",
       "    <tr style=\"text-align: right;\">\n",
       "      <th></th>\n",
       "      <th>age</th>\n",
       "      <th>gender</th>\n",
       "      <th>weight (kg)</th>\n",
       "      <th>height (m)</th>\n",
       "      <th>max_bpm</th>\n",
       "      <th>avg_bpm</th>\n",
       "      <th>resting_bpm</th>\n",
       "      <th>session_duration (hours)</th>\n",
       "      <th>calories_burned</th>\n",
       "      <th>workout_type</th>\n",
       "      <th>fat_percentage</th>\n",
       "      <th>water_intake (liters)</th>\n",
       "      <th>days_per_week</th>\n",
       "      <th>experience_level</th>\n",
       "      <th>bmi</th>\n",
       "    </tr>\n",
       "  </thead>\n",
       "  <tbody>\n",
       "    <tr>\n",
       "      <th>0</th>\n",
       "      <td>56</td>\n",
       "      <td>Male</td>\n",
       "      <td>88.3</td>\n",
       "      <td>1.71</td>\n",
       "      <td>180</td>\n",
       "      <td>157</td>\n",
       "      <td>60</td>\n",
       "      <td>1.69</td>\n",
       "      <td>1313.0</td>\n",
       "      <td>Yoga</td>\n",
       "      <td>12.6</td>\n",
       "      <td>3.5</td>\n",
       "      <td>4</td>\n",
       "      <td>3</td>\n",
       "      <td>30.2</td>\n",
       "    </tr>\n",
       "    <tr>\n",
       "      <th>1</th>\n",
       "      <td>46</td>\n",
       "      <td>Female</td>\n",
       "      <td>74.9</td>\n",
       "      <td>1.53</td>\n",
       "      <td>179</td>\n",
       "      <td>151</td>\n",
       "      <td>66</td>\n",
       "      <td>1.30</td>\n",
       "      <td>883.0</td>\n",
       "      <td>HIIT</td>\n",
       "      <td>33.9</td>\n",
       "      <td>2.1</td>\n",
       "      <td>4</td>\n",
       "      <td>2</td>\n",
       "      <td>32.0</td>\n",
       "    </tr>\n",
       "  </tbody>\n",
       "</table>\n",
       "</div>"
      ],
      "text/plain": [
       "   age  gender  weight (kg)  height (m)  max_bpm  avg_bpm  resting_bpm  \\\n",
       "0   56    Male         88.3        1.71      180      157           60   \n",
       "1   46  Female         74.9        1.53      179      151           66   \n",
       "\n",
       "   session_duration (hours)  calories_burned workout_type  fat_percentage  \\\n",
       "0                      1.69           1313.0         Yoga            12.6   \n",
       "1                      1.30            883.0         HIIT            33.9   \n",
       "\n",
       "   water_intake (liters)  days_per_week  experience_level   bmi  \n",
       "0                    3.5              4                 3  30.2  \n",
       "1                    2.1              4                 2  32.0  "
      ]
     },
     "execution_count": 17,
     "metadata": {},
     "output_type": "execute_result"
    }
   ],
   "source": [
    "#Reading the first two rows of dataset.\n",
    "gym.head(2)"
   ]
  },
  {
   "cell_type": "code",
   "execution_count": null,
   "metadata": {},
   "outputs": [],
   "source": [
    "#To change all upper case letters to lower case letters.\n",
    "gym.columns = map(str.lower, gym.columns)"
   ]
  },
  {
   "cell_type": "code",
   "execution_count": null,
   "metadata": {},
   "outputs": [
    {
     "data": {
      "text/html": [
       "<div>\n",
       "<style scoped>\n",
       "    .dataframe tbody tr th:only-of-type {\n",
       "        vertical-align: middle;\n",
       "    }\n",
       "\n",
       "    .dataframe tbody tr th {\n",
       "        vertical-align: top;\n",
       "    }\n",
       "\n",
       "    .dataframe thead th {\n",
       "        text-align: right;\n",
       "    }\n",
       "</style>\n",
       "<table border=\"1\" class=\"dataframe\">\n",
       "  <thead>\n",
       "    <tr style=\"text-align: right;\">\n",
       "      <th></th>\n",
       "      <th>gender</th>\n",
       "      <th>age</th>\n",
       "      <th>workout_frequency (days/week)</th>\n",
       "    </tr>\n",
       "  </thead>\n",
       "  <tbody>\n",
       "    <tr>\n",
       "      <th>0</th>\n",
       "      <td>Male</td>\n",
       "      <td>56</td>\n",
       "      <td>4</td>\n",
       "    </tr>\n",
       "    <tr>\n",
       "      <th>1</th>\n",
       "      <td>Female</td>\n",
       "      <td>46</td>\n",
       "      <td>4</td>\n",
       "    </tr>\n",
       "  </tbody>\n",
       "</table>\n",
       "</div>"
      ],
      "text/plain": [
       "   gender  age  workout_frequency (days/week)\n",
       "0    Male   56                              4\n",
       "1  Female   46                              4"
      ]
     },
     "execution_count": 5,
     "metadata": {},
     "output_type": "execute_result"
    }
   ],
   "source": [
    "#Selecting the columns which are common in both dataset to merge.\n",
    "new_gym = gym[['gender','age','workout_frequency (days/week)']].copy()\n",
    "new_gym.head(2)"
   ]
  },
  {
   "cell_type": "code",
   "execution_count": null,
   "metadata": {},
   "outputs": [],
   "source": [
    "#Rename the column to make common column  to merge.\n",
    "gym.rename(columns={'workout_frequency (days/week)': 'days_per_week'}, inplace=True)\n"
   ]
  },
  {
   "cell_type": "code",
   "execution_count": null,
   "metadata": {},
   "outputs": [],
   "source": [
    "#Saving new_gym file to new_gym.csv file.\n",
    "new_gym.to_csv('new_gym.csv')"
   ]
  },
  {
   "cell_type": "code",
   "execution_count": null,
   "metadata": {},
   "outputs": [],
   "source": [
    "# read the csv file.\n",
    "data = pd.read_csv(r\"C:\\Users\\bhatt\\Downloads\\gym_membership.csv\")"
   ]
  },
  {
   "cell_type": "code",
   "execution_count": null,
   "metadata": {},
   "outputs": [
    {
     "data": {
      "text/html": [
       "<div>\n",
       "<style scoped>\n",
       "    .dataframe tbody tr th:only-of-type {\n",
       "        vertical-align: middle;\n",
       "    }\n",
       "\n",
       "    .dataframe tbody tr th {\n",
       "        vertical-align: top;\n",
       "    }\n",
       "\n",
       "    .dataframe thead th {\n",
       "        text-align: right;\n",
       "    }\n",
       "</style>\n",
       "<table border=\"1\" class=\"dataframe\">\n",
       "  <thead>\n",
       "    <tr style=\"text-align: right;\">\n",
       "      <th></th>\n",
       "      <th>id</th>\n",
       "      <th>gender</th>\n",
       "      <th>birthday</th>\n",
       "      <th>Age</th>\n",
       "      <th>abonoment_type</th>\n",
       "      <th>visit_per_week</th>\n",
       "      <th>days_per_week</th>\n",
       "      <th>attend_group_lesson</th>\n",
       "      <th>fav_group_lesson</th>\n",
       "      <th>avg_time_check_in</th>\n",
       "      <th>avg_time_check_out</th>\n",
       "      <th>avg_time_in_gym</th>\n",
       "      <th>drink_abo</th>\n",
       "      <th>fav_drink</th>\n",
       "      <th>personal_training</th>\n",
       "      <th>name_personal_trainer</th>\n",
       "      <th>uses_sauna</th>\n",
       "    </tr>\n",
       "  </thead>\n",
       "  <tbody>\n",
       "    <tr>\n",
       "      <th>0</th>\n",
       "      <td>1</td>\n",
       "      <td>Female</td>\n",
       "      <td>1997-04-18</td>\n",
       "      <td>27</td>\n",
       "      <td>Premium</td>\n",
       "      <td>4</td>\n",
       "      <td>Mon, Sat, Tue, Wed</td>\n",
       "      <td>True</td>\n",
       "      <td>Kickboxen, BodyPump, Zumba</td>\n",
       "      <td>19:31:00</td>\n",
       "      <td>21:27:00</td>\n",
       "      <td>116</td>\n",
       "      <td>False</td>\n",
       "      <td>NaN</td>\n",
       "      <td>False</td>\n",
       "      <td>NaN</td>\n",
       "      <td>True</td>\n",
       "    </tr>\n",
       "    <tr>\n",
       "      <th>1</th>\n",
       "      <td>2</td>\n",
       "      <td>Female</td>\n",
       "      <td>1977-09-18</td>\n",
       "      <td>47</td>\n",
       "      <td>Standard</td>\n",
       "      <td>3</td>\n",
       "      <td>Mon, Sat, Wed</td>\n",
       "      <td>False</td>\n",
       "      <td>NaN</td>\n",
       "      <td>19:31:00</td>\n",
       "      <td>20:19:00</td>\n",
       "      <td>48</td>\n",
       "      <td>False</td>\n",
       "      <td>NaN</td>\n",
       "      <td>True</td>\n",
       "      <td>Chantal</td>\n",
       "      <td>False</td>\n",
       "    </tr>\n",
       "  </tbody>\n",
       "</table>\n",
       "</div>"
      ],
      "text/plain": [
       "   id  gender    birthday  Age abonoment_type  visit_per_week  \\\n",
       "0   1  Female  1997-04-18   27        Premium               4   \n",
       "1   2  Female  1977-09-18   47       Standard               3   \n",
       "\n",
       "        days_per_week  attend_group_lesson            fav_group_lesson  \\\n",
       "0  Mon, Sat, Tue, Wed                 True  Kickboxen, BodyPump, Zumba   \n",
       "1       Mon, Sat, Wed                False                         NaN   \n",
       "\n",
       "  avg_time_check_in avg_time_check_out  avg_time_in_gym  drink_abo fav_drink  \\\n",
       "0          19:31:00           21:27:00              116      False       NaN   \n",
       "1          19:31:00           20:19:00               48      False       NaN   \n",
       "\n",
       "   personal_training name_personal_trainer  uses_sauna  \n",
       "0              False                   NaN        True  \n",
       "1               True               Chantal       False  "
      ]
     },
     "execution_count": 8,
     "metadata": {},
     "output_type": "execute_result"
    }
   ],
   "source": [
    "#Reading the first two rows of dataset.\n",
    "data.head(2)"
   ]
  },
  {
   "cell_type": "code",
   "execution_count": 9,
   "metadata": {},
   "outputs": [],
   "source": [
    "#To change any upper case letter to lower case letters.\n",
    "data.columns = map(str.lower, data.columns)"
   ]
  },
  {
   "cell_type": "code",
   "execution_count": null,
   "metadata": {},
   "outputs": [
    {
     "data": {
      "text/html": [
       "<div>\n",
       "<style scoped>\n",
       "    .dataframe tbody tr th:only-of-type {\n",
       "        vertical-align: middle;\n",
       "    }\n",
       "\n",
       "    .dataframe tbody tr th {\n",
       "        vertical-align: top;\n",
       "    }\n",
       "\n",
       "    .dataframe thead th {\n",
       "        text-align: right;\n",
       "    }\n",
       "</style>\n",
       "<table border=\"1\" class=\"dataframe\">\n",
       "  <thead>\n",
       "    <tr style=\"text-align: right;\">\n",
       "      <th></th>\n",
       "      <th>age</th>\n",
       "      <th>gender</th>\n",
       "      <th>visit_per_week</th>\n",
       "    </tr>\n",
       "  </thead>\n",
       "  <tbody>\n",
       "    <tr>\n",
       "      <th>0</th>\n",
       "      <td>27</td>\n",
       "      <td>Female</td>\n",
       "      <td>4</td>\n",
       "    </tr>\n",
       "    <tr>\n",
       "      <th>1</th>\n",
       "      <td>47</td>\n",
       "      <td>Female</td>\n",
       "      <td>3</td>\n",
       "    </tr>\n",
       "  </tbody>\n",
       "</table>\n",
       "</div>"
      ],
      "text/plain": [
       "   age  gender  visit_per_week\n",
       "0   27  Female               4\n",
       "1   47  Female               3"
      ]
     },
     "execution_count": 10,
     "metadata": {},
     "output_type": "execute_result"
    }
   ],
   "source": [
    "# Selecting the columns which are common in both dataset to merge.\n",
    "new_data = data[['age', 'gender', 'visit_per_week']]\n",
    "new_data.head(2)"
   ]
  },
  {
   "cell_type": "code",
   "execution_count": null,
   "metadata": {},
   "outputs": [],
   "source": [
    "#Save new_data file to csv file.\n",
    "new_data.to_csv('new_data.csv')"
   ]
  }
 ],
 "metadata": {
  "kernelspec": {
   "display_name": "venv",
   "language": "python",
   "name": "python3"
  },
  "language_info": {
   "codemirror_mode": {
    "name": "ipython",
    "version": 3
   },
   "file_extension": ".py",
   "mimetype": "text/x-python",
   "name": "python",
   "nbconvert_exporter": "python",
   "pygments_lexer": "ipython3",
   "version": "3.12.8"
  }
 },
 "nbformat": 4,
 "nbformat_minor": 2
}
